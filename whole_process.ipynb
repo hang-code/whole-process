{
 "cells": [
  {
   "cell_type": "code",
   "execution_count": 13,
   "metadata": {},
   "outputs": [],
   "source": [
    "import oss2\n",
    "import os\n",
    "import celery\n",
    "import shutil"
   ]
  },
  {
   "cell_type": "code",
   "execution_count": 14,
   "metadata": {},
   "outputs": [],
   "source": [
    "#常量\n",
    "auth = \n",
    "bucket = \n",
    "broker=\n",
    "backend = "
   ]
  },
  {
   "cell_type": "code",
   "execution_count": 15,
   "metadata": {},
   "outputs": [],
   "source": [
    "#实例化celery\n",
    "cel=celery.Celery(broker=broker,backend=backend)"
   ]
  },
  {
   "cell_type": "code",
   "execution_count": 16,
   "metadata": {},
   "outputs": [],
   "source": [
    "def get_score(filepath,filelist): #得到图片的分数\n",
    "    results = [] \n",
    "    for i in filelist:\n",
    "        with open(filepath+'/'+i, \"rb\") as f:\n",
    "            data = f.read()\n",
    "        bucket.put_object(i, data)\n",
    "        results.append(cel.send_task('', args=[i],queue='', routing_key=''))\n",
    "    return results"
   ]
  },
  {
   "cell_type": "code",
   "execution_count": 17,
   "metadata": {},
   "outputs": [],
   "source": [
    "def sort_results(results):  #得到一个case的排名\n",
    "    #得到分数以及名字\n",
    "    name = []\n",
    "    score = []\n",
    "    for i in range(len(results)):\n",
    "        name.append(results[i].get()[0])\n",
    "        score.append(results[i].get()[1])\n",
    "    #分数的dict\n",
    "    dict_score = {}\n",
    "    for i in range(len(name)):\n",
    "        dict_score.update({str(name[i]):str(score[i])})\n",
    "    sorted_file=sorted(dict_score.items(),key=lambda item:item[1], reverse=True)\n",
    "    #姓名排名\n",
    "    sort_file = []\n",
    "    for i in range(len(sorted_file)):\n",
    "        sort_file.append(sorted_file[i][0])\n",
    "    \n",
    "    return sort_file"
   ]
  },
  {
   "cell_type": "code",
   "execution_count": 18,
   "metadata": {},
   "outputs": [],
   "source": [
    "def group_case(filepath): #得到case数和case的二维数组\n",
    "    filelist = os.listdir(filepath)\n",
    "    filelist.sort()\n",
    "    listIndex = []\n",
    "    i = 1\n",
    "    for n in range(1,len(filelist)):\n",
    "        if filelist[n-1][:11] != filelist[n][:11]:\n",
    "            listIndex.append(n-1)\n",
    "            i=i+1\n",
    "    case = i\n",
    "    #listBig = np.zeros((2,300),dtype=str)\n",
    "    listBig = [([0] * 0) for i in range(case)]\n",
    "    #listBig = [[0]*a]*i\n",
    "    listPoint = []\n",
    "    q = 0\n",
    "    i = 0\n",
    "    for n in range(1,len(filelist)):\n",
    "        if filelist[n-1][:11] == filelist[n][:11]:\n",
    "            listBig[i].append(filelist[n-1])\n",
    "        else:\n",
    "            listBig[i].append(filelist[n-1])\n",
    "            i = i+1\n",
    "    listBig[i].append(filelist[n])\n",
    "    return case,listBig"
   ]
  },
  {
   "cell_type": "code",
   "execution_count": 19,
   "metadata": {},
   "outputs": [],
   "source": [
    "#改名函数\n",
    "def rename(filelist,path,path1,path2):\n",
    "    n = 0\n",
    "    for i in filelist:\n",
    "        if n < 9:\n",
    "            oldname = path1 + os.sep + filelist[n]\n",
    "            newname = path2 + os.sep + '{}{}{}{}'.format(filelist[n][:11],'.00',str(n+1),'.MMI')\n",
    "            os.rename(oldname,newname)\n",
    "            print(oldname,'==>',newname)\n",
    "            n=n+1\n",
    "        elif n<99:\n",
    "            oldname = path1 + os.sep + filelist[n]\n",
    "            newname = path2 + os.sep + '{}{}{}{}'.format(filelist[n][:11],'.0',str(n+1),'.MMI')\n",
    "            os.rename(oldname,newname)\n",
    "            print(oldname,'==>',newname)\n",
    "            n=n+1\n",
    "        elif n<999:\n",
    "            oldname = path1 + os.sep + filelist[n]\n",
    "            newname = path2 + os.sep + '{}{}{}{}'.format(filelist[n][:11],'.',str(n+1),'.MMI')\n",
    "            os.rename(oldname,newname)\n",
    "            print(oldname,'==>',newname)\n",
    "            n=n+1\n",
    "    return "
   ]
  },
  {
   "cell_type": "code",
   "execution_count": 20,
   "metadata": {},
   "outputs": [],
   "source": [
    "path = './Desktop/test'\n",
    "#文件改名\n",
    "path1 = './Desktop/sort'\n",
    "path2 = './Desktop/sort1'\n",
    "path3 = './Desktop/results'\n",
    "\n",
    "shutil.copytree(path1,path2)\n",
    "os.makedirs(path3)"
   ]
  },
  {
   "cell_type": "raw",
   "metadata": {},
   "source": [
    "shutil.rmtree(path2)\n",
    "shutil.rmtree(path3)"
   ]
  },
  {
   "cell_type": "code",
   "execution_count": 21,
   "metadata": {},
   "outputs": [],
   "source": [
    "def sort_whole_case(path,path1,path2,path3):\n",
    "    casenumber,case = group_case(path)\n",
    "    for i in range(casenumber):\n",
    "        result = get_score(path,case[i])\n",
    "        sort_file=sort_results(result)\n",
    "        cut_sort_file =[]\n",
    "        for i in sort_file:\n",
    "            cut_sort_file.append(i[:15]+'.MMI')\n",
    "        rename(cut_sort_file,path1,path2,path3)\n",
    "    return"
   ]
  },
  {
   "cell_type": "code",
   "execution_count": 22,
   "metadata": {},
   "outputs": [
    {
     "name": "stdout",
     "output_type": "stream",
     "text": [
      "./Desktop/sort1/G2008051702.004.MMI ==> ./Desktop/results/G2008051702.001.MMI\n",
      "./Desktop/sort1/G2008051702.005.MMI ==> ./Desktop/results/G2008051702.002.MMI\n",
      "./Desktop/sort1/G2008051702.002.MMI ==> ./Desktop/results/G2008051702.003.MMI\n",
      "./Desktop/sort1/G2008051702.007.MMI ==> ./Desktop/results/G2008051702.004.MMI\n",
      "./Desktop/sort1/G2008051702.008.MMI ==> ./Desktop/results/G2008051702.005.MMI\n",
      "./Desktop/sort1/G2008051702.006.MMI ==> ./Desktop/results/G2008051702.006.MMI\n",
      "./Desktop/sort1/G2008051702.010.MMI ==> ./Desktop/results/G2008051702.007.MMI\n",
      "./Desktop/sort1/G2008051702.003.MMI ==> ./Desktop/results/G2008051702.008.MMI\n",
      "./Desktop/sort1/G2008051702.009.MMI ==> ./Desktop/results/G2008051702.009.MMI\n",
      "./Desktop/sort1/G2008051702.001.MMI ==> ./Desktop/results/G2008051702.010.MMI\n",
      "./Desktop/sort1/L2008051702.004.MMI ==> ./Desktop/results/L2008051702.001.MMI\n",
      "./Desktop/sort1/L2008051702.005.MMI ==> ./Desktop/results/L2008051702.002.MMI\n",
      "./Desktop/sort1/L2008051702.002.MMI ==> ./Desktop/results/L2008051702.003.MMI\n",
      "./Desktop/sort1/L2008051702.007.MMI ==> ./Desktop/results/L2008051702.004.MMI\n",
      "./Desktop/sort1/L2008051702.008.MMI ==> ./Desktop/results/L2008051702.005.MMI\n",
      "./Desktop/sort1/L2008051702.006.MMI ==> ./Desktop/results/L2008051702.006.MMI\n",
      "./Desktop/sort1/L2008051702.010.MMI ==> ./Desktop/results/L2008051702.007.MMI\n",
      "./Desktop/sort1/L2008051702.003.MMI ==> ./Desktop/results/L2008051702.008.MMI\n",
      "./Desktop/sort1/L2008051702.009.MMI ==> ./Desktop/results/L2008051702.009.MMI\n",
      "./Desktop/sort1/L2008051702.001.MMI ==> ./Desktop/results/L2008051702.010.MMI\n"
     ]
    }
   ],
   "source": [
    "sort_whole_case(path,path1,path2,path3)"
   ]
  },
  {
   "cell_type": "code",
   "execution_count": 12,
   "metadata": {},
   "outputs": [],
   "source": [
    "shutil.rmtree(path2)\n",
    "shutil.rmtree(path3)"
   ]
  },
  {
   "cell_type": "code",
   "execution_count": null,
   "metadata": {},
   "outputs": [],
   "source": []
  }
 ],
 "metadata": {
  "kernelspec": {
   "display_name": "Python 3",
   "language": "python",
   "name": "python3"
  },
  "language_info": {
   "codemirror_mode": {
    "name": "ipython",
    "version": 3
   },
   "file_extension": ".py",
   "mimetype": "text/x-python",
   "name": "python",
   "nbconvert_exporter": "python",
   "pygments_lexer": "ipython3",
   "version": "3.8.2"
  }
 },
 "nbformat": 4,
 "nbformat_minor": 4
}
